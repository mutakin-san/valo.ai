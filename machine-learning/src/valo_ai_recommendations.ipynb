{
  "cells": [
    {
      "cell_type": "markdown",
      "source": [
        "# Install Libraries"
      ],
      "metadata": {
        "id": "BpJWDgx1g96x"
      }
    },
    {
      "cell_type": "code",
      "execution_count": null,
      "metadata": {
        "id": "ULeJC3CGBG7Z"
      },
      "outputs": [],
      "source": [
        "!pip install -q tensorflow-recommenders\n",
        "!pip install -q scann\n",
        "!pip install tflite-support"
      ]
    },
    {
      "cell_type": "markdown",
      "source": [
        "# Import Libraries"
      ],
      "metadata": {
        "id": "mlJbwvmAhGTA"
      }
    },
    {
      "cell_type": "code",
      "execution_count": null,
      "metadata": {
        "id": "dJ0FnBp8B5aD"
      },
      "outputs": [],
      "source": [
        "from typing import Dict, Text\n",
        "\n",
        "import numpy as np\n",
        "import tensorflow as tf\n",
        "\n",
        "import tensorflow_recommenders as tfrs\n",
        "\n",
        "import os\n",
        "import pprint\n",
        "import tempfile\n",
        "\n",
        "import pandas as pd\n",
        "import matplotlib.pyplot as plt\n",
        "%matplotlib inline\n",
        "\n",
        "import pathlib\n",
        "from google.colab import files\n",
        "\n"
      ]
    },
    {
      "cell_type": "markdown",
      "source": [
        "# Read CSV Dataset"
      ],
      "metadata": {
        "id": "eNHG7D3ghM3k"
      }
    },
    {
      "cell_type": "code",
      "execution_count": null,
      "metadata": {
        "id": "sxgy1NSpzu2S",
        "colab": {
          "base_uri": "https://localhost:8080/",
          "height": 206
        },
        "outputId": "347c5f4f-9cde-46eb-fa1a-36a2188f258f"
      },
      "outputs": [
        {
          "output_type": "execute_result",
          "data": {
            "text/plain": [
              "   user_id              name  age  gender      vac_1      vac_2 vac_booster\n",
              "0        1   Bakda Salahudin   18       1  Sinopharm  Sinopharm     Janssen\n",
              "1        2        Eja Widodo   36       1  Sinopharm  Sinopharm     Janssen\n",
              "2        3  Gamanto Prasetya   39       1  Sinopharm  Sinopharm     Janssen\n",
              "3        4      Vera Puspita   47       0  Sinopharm  Sinopharm     Janssen\n",
              "4        5    Elvina Pratiwi   46       0  Sinopharm  Sinopharm     Janssen"
            ],
            "text/html": [
              "\n",
              "  <div id=\"df-e2e3cacb-d072-4665-a39d-7885071e4f94\">\n",
              "    <div class=\"colab-df-container\">\n",
              "      <div>\n",
              "<style scoped>\n",
              "    .dataframe tbody tr th:only-of-type {\n",
              "        vertical-align: middle;\n",
              "    }\n",
              "\n",
              "    .dataframe tbody tr th {\n",
              "        vertical-align: top;\n",
              "    }\n",
              "\n",
              "    .dataframe thead th {\n",
              "        text-align: right;\n",
              "    }\n",
              "</style>\n",
              "<table border=\"1\" class=\"dataframe\">\n",
              "  <thead>\n",
              "    <tr style=\"text-align: right;\">\n",
              "      <th></th>\n",
              "      <th>user_id</th>\n",
              "      <th>name</th>\n",
              "      <th>age</th>\n",
              "      <th>gender</th>\n",
              "      <th>vac_1</th>\n",
              "      <th>vac_2</th>\n",
              "      <th>vac_booster</th>\n",
              "    </tr>\n",
              "  </thead>\n",
              "  <tbody>\n",
              "    <tr>\n",
              "      <th>0</th>\n",
              "      <td>1</td>\n",
              "      <td>Bakda Salahudin</td>\n",
              "      <td>18</td>\n",
              "      <td>1</td>\n",
              "      <td>Sinopharm</td>\n",
              "      <td>Sinopharm</td>\n",
              "      <td>Janssen</td>\n",
              "    </tr>\n",
              "    <tr>\n",
              "      <th>1</th>\n",
              "      <td>2</td>\n",
              "      <td>Eja Widodo</td>\n",
              "      <td>36</td>\n",
              "      <td>1</td>\n",
              "      <td>Sinopharm</td>\n",
              "      <td>Sinopharm</td>\n",
              "      <td>Janssen</td>\n",
              "    </tr>\n",
              "    <tr>\n",
              "      <th>2</th>\n",
              "      <td>3</td>\n",
              "      <td>Gamanto Prasetya</td>\n",
              "      <td>39</td>\n",
              "      <td>1</td>\n",
              "      <td>Sinopharm</td>\n",
              "      <td>Sinopharm</td>\n",
              "      <td>Janssen</td>\n",
              "    </tr>\n",
              "    <tr>\n",
              "      <th>3</th>\n",
              "      <td>4</td>\n",
              "      <td>Vera Puspita</td>\n",
              "      <td>47</td>\n",
              "      <td>0</td>\n",
              "      <td>Sinopharm</td>\n",
              "      <td>Sinopharm</td>\n",
              "      <td>Janssen</td>\n",
              "    </tr>\n",
              "    <tr>\n",
              "      <th>4</th>\n",
              "      <td>5</td>\n",
              "      <td>Elvina Pratiwi</td>\n",
              "      <td>46</td>\n",
              "      <td>0</td>\n",
              "      <td>Sinopharm</td>\n",
              "      <td>Sinopharm</td>\n",
              "      <td>Janssen</td>\n",
              "    </tr>\n",
              "  </tbody>\n",
              "</table>\n",
              "</div>\n",
              "      <button class=\"colab-df-convert\" onclick=\"convertToInteractive('df-e2e3cacb-d072-4665-a39d-7885071e4f94')\"\n",
              "              title=\"Convert this dataframe to an interactive table.\"\n",
              "              style=\"display:none;\">\n",
              "        \n",
              "  <svg xmlns=\"http://www.w3.org/2000/svg\" height=\"24px\"viewBox=\"0 0 24 24\"\n",
              "       width=\"24px\">\n",
              "    <path d=\"M0 0h24v24H0V0z\" fill=\"none\"/>\n",
              "    <path d=\"M18.56 5.44l.94 2.06.94-2.06 2.06-.94-2.06-.94-.94-2.06-.94 2.06-2.06.94zm-11 1L8.5 8.5l.94-2.06 2.06-.94-2.06-.94L8.5 2.5l-.94 2.06-2.06.94zm10 10l.94 2.06.94-2.06 2.06-.94-2.06-.94-.94-2.06-.94 2.06-2.06.94z\"/><path d=\"M17.41 7.96l-1.37-1.37c-.4-.4-.92-.59-1.43-.59-.52 0-1.04.2-1.43.59L10.3 9.45l-7.72 7.72c-.78.78-.78 2.05 0 2.83L4 21.41c.39.39.9.59 1.41.59.51 0 1.02-.2 1.41-.59l7.78-7.78 2.81-2.81c.8-.78.8-2.07 0-2.86zM5.41 20L4 18.59l7.72-7.72 1.47 1.35L5.41 20z\"/>\n",
              "  </svg>\n",
              "      </button>\n",
              "      \n",
              "  <style>\n",
              "    .colab-df-container {\n",
              "      display:flex;\n",
              "      flex-wrap:wrap;\n",
              "      gap: 12px;\n",
              "    }\n",
              "\n",
              "    .colab-df-convert {\n",
              "      background-color: #E8F0FE;\n",
              "      border: none;\n",
              "      border-radius: 50%;\n",
              "      cursor: pointer;\n",
              "      display: none;\n",
              "      fill: #1967D2;\n",
              "      height: 32px;\n",
              "      padding: 0 0 0 0;\n",
              "      width: 32px;\n",
              "    }\n",
              "\n",
              "    .colab-df-convert:hover {\n",
              "      background-color: #E2EBFA;\n",
              "      box-shadow: 0px 1px 2px rgba(60, 64, 67, 0.3), 0px 1px 3px 1px rgba(60, 64, 67, 0.15);\n",
              "      fill: #174EA6;\n",
              "    }\n",
              "\n",
              "    [theme=dark] .colab-df-convert {\n",
              "      background-color: #3B4455;\n",
              "      fill: #D2E3FC;\n",
              "    }\n",
              "\n",
              "    [theme=dark] .colab-df-convert:hover {\n",
              "      background-color: #434B5C;\n",
              "      box-shadow: 0px 1px 3px 1px rgba(0, 0, 0, 0.15);\n",
              "      filter: drop-shadow(0px 1px 2px rgba(0, 0, 0, 0.3));\n",
              "      fill: #FFFFFF;\n",
              "    }\n",
              "  </style>\n",
              "\n",
              "      <script>\n",
              "        const buttonEl =\n",
              "          document.querySelector('#df-e2e3cacb-d072-4665-a39d-7885071e4f94 button.colab-df-convert');\n",
              "        buttonEl.style.display =\n",
              "          google.colab.kernel.accessAllowed ? 'block' : 'none';\n",
              "\n",
              "        async function convertToInteractive(key) {\n",
              "          const element = document.querySelector('#df-e2e3cacb-d072-4665-a39d-7885071e4f94');\n",
              "          const dataTable =\n",
              "            await google.colab.kernel.invokeFunction('convertToInteractive',\n",
              "                                                     [key], {});\n",
              "          if (!dataTable) return;\n",
              "\n",
              "          const docLinkHtml = 'Like what you see? Visit the ' +\n",
              "            '<a target=\"_blank\" href=https://colab.research.google.com/notebooks/data_table.ipynb>data table notebook</a>'\n",
              "            + ' to learn more about interactive tables.';\n",
              "          element.innerHTML = '';\n",
              "          dataTable['output_type'] = 'display_data';\n",
              "          await google.colab.output.renderOutput(dataTable, element);\n",
              "          const docLink = document.createElement('div');\n",
              "          docLink.innerHTML = docLinkHtml;\n",
              "          element.appendChild(docLink);\n",
              "        }\n",
              "      </script>\n",
              "    </div>\n",
              "  </div>\n",
              "  "
            ]
          },
          "metadata": {},
          "execution_count": 2
        }
      ],
      "source": [
        "users = pd.read_csv('https://raw.githubusercontent.com/mutakin-san/valo.ai/main/machine-learning/dataset/user_valo_mod_str.csv')\n",
        "users.head()"
      ]
    },
    {
      "cell_type": "markdown",
      "source": [
        "# Input Shape"
      ],
      "metadata": {
        "id": "8Dd299yChUi3"
      }
    },
    {
      "cell_type": "code",
      "source": [
        "shape = users.shape\n",
        "shape"
      ],
      "metadata": {
        "id": "sJJvQQH4j4h1",
        "colab": {
          "base_uri": "https://localhost:8080/"
        },
        "outputId": "b2796cfc-e14c-4f46-e476-8d02ad69cd4c"
      },
      "execution_count": null,
      "outputs": [
        {
          "output_type": "execute_result",
          "data": {
            "text/plain": [
              "(102400, 7)"
            ]
          },
          "metadata": {},
          "execution_count": 3
        }
      ]
    },
    {
      "cell_type": "markdown",
      "source": [
        "# Data Preparation"
      ],
      "metadata": {
        "id": "AM1cE9VphXNg"
      }
    },
    {
      "cell_type": "code",
      "execution_count": null,
      "metadata": {
        "id": "RhOhOCMU7rq4"
      },
      "outputs": [],
      "source": [
        "grouped_data_dict = users.groupby(['user_id', 'vac_booster'])['vac_1', 'vac_2'].sum().reset_index()\n",
        "\n",
        "grouped_data_dict = {name: np.array(value) for name, value in grouped_data_dict.items()}\n",
        "grouped_data = tf.data.Dataset.from_tensor_slices(grouped_data_dict)\n",
        "\n",
        "booster_dict = users[['vac_booster']].drop_duplicates()\n",
        "booster_dict = {name: np.array(value) for name, value in booster_dict.items()}\n",
        "booster = tf.data.Dataset.from_tensor_slices(booster_dict)\n",
        "\n",
        "grouped_data = grouped_data.map(lambda x: {\n",
        "    'user_id' : str(x['user_id']), \n",
        "    'vac_booster' : x['vac_booster'], \n",
        "    'vac_1' : x['vac_1'],\n",
        "    'vac_2' : x['vac_2'],\n",
        "\n",
        "})\n",
        "\n",
        "booster = booster.map(lambda x: x['vac_booster'])"
      ]
    },
    {
      "cell_type": "code",
      "source": [
        "l = list(grouped_data)\n",
        "l[0]"
      ],
      "metadata": {
        "id": "DeETqDU9iSIh"
      },
      "execution_count": null,
      "outputs": []
    },
    {
      "cell_type": "code",
      "execution_count": null,
      "metadata": {
        "id": "VM-obuaeYVdw"
      },
      "outputs": [],
      "source": [
        "booster"
      ]
    },
    {
      "cell_type": "code",
      "execution_count": null,
      "metadata": {
        "id": "hnNXEXR1pbgy"
      },
      "outputs": [],
      "source": [
        "unique_boosters = np.unique(np.concatenate(list(booster.batch(1000))))\n",
        "unique_user_ids = np.unique(np.concatenate(list(grouped_data.batch(1_000).map(lambda x: x[\"vac_1\"]))))\n",
        "unique_user_ids2 = np.unique(np.concatenate(list(grouped_data.batch(1_000).map(lambda x: x[\"vac_2\"]))))"
      ]
    },
    {
      "cell_type": "markdown",
      "source": [
        "# Shuffle the Data Randomly and Split for Train and Test"
      ],
      "metadata": {
        "id": "tys5pMAFkC28"
      }
    },
    {
      "cell_type": "code",
      "execution_count": null,
      "metadata": {
        "id": "5bEPY1sZiEX_"
      },
      "outputs": [],
      "source": [
        "tf.random.set_seed(42)\n",
        "shuffled = grouped_data.shuffle(100_000, seed=42, reshuffle_each_iteration=False)\n",
        "\n",
        "train = shuffled.take(60_000)\n",
        "test = shuffled.skip(60_000).take(40_000)"
      ]
    },
    {
      "cell_type": "markdown",
      "source": [
        "# Build Retrieval Model for Vaccine"
      ],
      "metadata": {
        "id": "k4KU4zREkNqI"
      }
    },
    {
      "cell_type": "code",
      "execution_count": null,
      "metadata": {
        "id": "aEVqKDxeijp8"
      },
      "outputs": [],
      "source": [
        "class VaccineModel(tfrs.Model):\n",
        "  def __init__(self, user_model, booster_model):\n",
        "    super().__init__()\n",
        "    booster_model = tf.keras.Sequential([\n",
        "                                      tf.keras.layers.experimental.preprocessing.StringLookup(\n",
        "                                          vocabulary=unique_boosters, mask_token=None),\n",
        "                                      tf.keras.layers.Embedding(len(unique_boosters) + 1, embedding_dimension)\n",
        "    ])\n",
        "    self.booster_model: tf.keras.Model = booster_model\n",
        "\n",
        "    user_model = tf.keras.Sequential([\n",
        "                                      tf.keras.layers.experimental.preprocessing.StringLookup(\n",
        "                                          vocabulary=unique_user_ids, mask_token=None),\n",
        "                                      tf.keras.layers.Embedding(len(unique_user_ids) + 1, embedding_dimension)\n",
        "    ])\n",
        "    self.user_model: tf.keras.Model = user_model\n",
        "\n",
        "    metrics = tfrs.metrics.FactorizedTopK(\n",
        "      candidates=booster.batch(512).map(booster_model)\n",
        "    )\n",
        "\n",
        "    task = tfrs.tasks.Retrieval(metrics=metrics)\n",
        "    self.task: tf.keras.layers.Layer = task\n",
        "\n",
        "  def compute_loss(self, features: Dict[Text, tf.Tensor], training=False) -> tf.Tensor:\n",
        "    user_embeddings = self.user_model(features['vac_1'], features['vac_2'])\n",
        "    positive_vac_embeddings = self.booster_model(features['vac_booster'])\n",
        "    return self.task(user_embeddings, positive_vac_embeddings)"
      ]
    },
    {
      "cell_type": "markdown",
      "source": [
        "# Fitting and Evaluating"
      ],
      "metadata": {
        "id": "O5sg4VNekZYK"
      }
    },
    {
      "cell_type": "code",
      "execution_count": null,
      "metadata": {
        "id": "Wa1uBRz_w5aC"
      },
      "outputs": [],
      "source": [
        "embedding_dimension = 32\n",
        "\n",
        "booster_model = tf.keras.Sequential([\n",
        "                                  tf.keras.layers.experimental.preprocessing.StringLookup(\n",
        "                                      vocabulary=unique_boosters, mask_token=None),\n",
        "                                  tf.keras.layers.Embedding(len(unique_boosters) + 1, embedding_dimension)\n",
        "])\n",
        "\n",
        "user_model = tf.keras.Sequential([\n",
        "                                  tf.keras.layers.experimental.preprocessing.StringLookup(\n",
        "                                      vocabulary=unique_user_ids, mask_token=None),\n",
        "                                  tf.keras.layers.Embedding(len(unique_user_ids) + 1, embedding_dimension)\n",
        "])\n",
        "\n",
        "model = VaccineModel(user_model, booster_model)\n",
        "\n",
        "model.compile(optimizer=tf.keras.optimizers.Adagrad(learning_rate=0.01))\n",
        "cached_train = train.shuffle(100_000).batch(8192).cache()\n",
        "cached_test = test.batch(4096).cache()\n",
        "\n",
        "history = model.fit(cached_train, epochs=10)\n",
        "model.evaluate(cached_test, return_dict=True)"
      ]
    },
    {
      "cell_type": "markdown",
      "source": [
        "# Plot the Accuracy and Epochs"
      ],
      "metadata": {
        "id": "7FFGojr5klXi"
      }
    },
    {
      "cell_type": "code",
      "execution_count": null,
      "metadata": {
        "id": "ZelzYcunz7OP"
      },
      "outputs": [],
      "source": [
        "epochs = [i for i in range(10)]\n",
        "\n",
        "plt.plot(epochs, history.history[\"factorized_top_k/top_5_categorical_accuracy\"], label=\"accuracy\")\n",
        "plt.title(\"Accuracy vs epoch\")\n",
        "plt.xlabel(\"epoch\")\n",
        "plt.ylabel(\"Top-100 accuracy\");\n",
        "plt.legend()"
      ]
    },
    {
      "cell_type": "markdown",
      "source": [
        "# Predict Top Recommended Vaccines"
      ],
      "metadata": {
        "id": "zTGBNRElku28"
      }
    },
    {
      "cell_type": "code",
      "execution_count": null,
      "metadata": {
        "id": "7FSr6qdK0OkP",
        "colab": {
          "base_uri": "https://localhost:8080/"
        },
        "outputId": "2a617d00-2460-4158-aedd-5d56eecaa090"
      },
      "outputs": [
        {
          "output_type": "execute_result",
          "data": {
            "text/plain": [
              "<tensorflow_recommenders.layers.factorized_top_k.BruteForce at 0x7fb81d44b090>"
            ]
          },
          "metadata": {},
          "execution_count": 12
        }
      ],
      "source": [
        "index = tfrs.layers.factorized_top_k.BruteForce(model.user_model, k=3)\n",
        "index.index_from_dataset(\n",
        "    booster.batch(128).map(lambda title: (title, model.booster_model(title)))\n",
        ")"
      ]
    },
    {
      "cell_type": "code",
      "execution_count": null,
      "metadata": {
        "id": "ubkZwUYC7hYY",
        "colab": {
          "base_uri": "https://localhost:8080/"
        },
        "outputId": "c761d7cd-6ae5-417b-a8b9-1544866b2bc3"
      },
      "outputs": [
        {
          "output_type": "stream",
          "name": "stdout",
          "text": [
            "Recommendations: [b'Pfizer' b'AZ' b'Moderna']\n"
          ]
        }
      ],
      "source": [
        "_, vac = index(tf.constant([\"AZ\", \"AZ\"]))\n",
        "print(f\"Recommendations: {vac[0]}\")"
      ]
    },
    {
      "cell_type": "markdown",
      "source": [
        "# Save the Model and Load Saved Model"
      ],
      "metadata": {
        "id": "QH-Q1I2fk1DU"
      }
    },
    {
      "cell_type": "code",
      "source": [
        "tf.saved_model.save(index, \"export\")"
      ],
      "metadata": {
        "id": "ex57nDIyYFlH"
      },
      "execution_count": null,
      "outputs": []
    },
    {
      "cell_type": "code",
      "source": [
        "# Load it back; can also be done in TensorFlow Serving.\n",
        "loaded = tf.saved_model.load(\"export\")\n",
        "\n",
        "# Pass a user id in, get top predicted vaccines\n",
        "scores, vaccines = loaded([\"AZ\", \"AZ\"])\n",
        "\n",
        "print(f\"Recommendations: {vaccines[0]}\")"
      ],
      "metadata": {
        "id": "KbaI-UjeYW7P"
      },
      "execution_count": null,
      "outputs": []
    },
    {
      "cell_type": "code",
      "source": [
        "print(loaded.signatures['serving_default'].inputs)"
      ],
      "metadata": {
        "id": "47ozdOT5spMr"
      },
      "execution_count": null,
      "outputs": []
    },
    {
      "cell_type": "code",
      "source": [
        "print(f\"Recommendations: {scores[0]}\")"
      ],
      "metadata": {
        "id": "JhW7IssPA_eT"
      },
      "execution_count": null,
      "outputs": []
    },
    {
      "cell_type": "markdown",
      "source": [
        "# Convert Saved Model to TFLite Model"
      ],
      "metadata": {
        "id": "bvpHBoUKk9Yv"
      }
    },
    {
      "cell_type": "code",
      "source": [
        "converter = tf.lite.TFLiteConverter.from_saved_model(\"export\")\n",
        "tflite_model = converter.convert()\n",
        "open(\"converted_model.tflite\", \"wb\").write(tflite_model)"
      ],
      "metadata": {
        "id": "VWiE0t3bYgBt"
      },
      "execution_count": null,
      "outputs": []
    },
    {
      "cell_type": "markdown",
      "source": [
        "# Using Interpreter to Get Predicted Vaccine from TFLite Model"
      ],
      "metadata": {
        "id": "a687it0vlCdU"
      }
    },
    {
      "cell_type": "code",
      "source": [
        "interpreter = tf.lite.Interpreter(model_path=\"converted_model.tflite\")\n",
        "interpreter.allocate_tensors()\n",
        "\n",
        "# get input and output tensors\n",
        "input_details = interpreter.get_input_details()\n",
        "output_details = interpreter.get_output_details()\n",
        "\n",
        "print(input_details)\n",
        "\n",
        "# test the model\n",
        "input_shape = input_details[0]['shape']\n",
        "print(input_shape)\n",
        "\n",
        "interpreter.set_tensor(input_details[0]['index'], np.array([\"Janssen\"]))\n",
        "# interpreter.set_tensor(input_details[0]['index'], np.array([\"Pfizer\"]))\n",
        "\n",
        "interpreter.invoke()\n",
        "\n",
        "output_data = interpreter.get_tensor(output_details[1]['index'])\n",
        "print(output_data[0])"
      ],
      "metadata": {
        "id": "otU2sOiDg_kt"
      },
      "execution_count": null,
      "outputs": []
    }
  ],
  "metadata": {
    "colab": {
      "collapsed_sections": [],
      "name": "valo-ai-recommendations.ipynb",
      "provenance": []
    },
    "kernelspec": {
      "display_name": "Python 3",
      "name": "python3"
    },
    "language_info": {
      "name": "python"
    },
    "accelerator": "GPU"
  },
  "nbformat": 4,
  "nbformat_minor": 0
}